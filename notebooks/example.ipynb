{
 "cells": [
  {
   "cell_type": "code",
   "execution_count": 17,
   "metadata": {},
   "outputs": [],
   "source": [
    "%load_ext autoreload\n",
    "%autoreload 2"
   ]
  },
  {
   "cell_type": "code",
   "execution_count": 18,
   "metadata": {},
   "outputs": [],
   "source": [
    "import sys\n",
    "sys.path.append(\"../src/\")"
   ]
  },
  {
   "cell_type": "code",
   "execution_count": 19,
   "metadata": {},
   "outputs": [],
   "source": [
    "from agentic_llm.agent import LLMAgent, get_default_cfg\n",
    "from agentic_llm.utils.files import load_config, save_config"
   ]
  },
  {
   "cell_type": "code",
   "execution_count": 20,
   "metadata": {},
   "outputs": [],
   "source": [
    "cfg = load_config(\"../configs/default_config.toml\")\n",
    "cfg"
   ]
  },
  {
   "cell_type": "code",
   "execution_count": 19,
   "metadata": {},
   "outputs": [
    {
     "name": "stdout",
     "output_type": "stream",
     "text": [
      "initialising mistral-7b-instruct-v0.1.Q4_0...\n",
      "...done!\n",
      "running docker container linux_repl...\n",
      "...done!\n",
      "running docker container python_repl...\n",
      "...done!\n"
     ]
    }
   ],
   "source": [
    "agent = LLMAgent(cfg)"
   ]
  },
  {
   "cell_type": "code",
   "execution_count": 5,
   "metadata": {},
   "outputs": [
    {
     "name": "stdout",
     "output_type": "stream",
     "text": [
      "\n",
      "Today is 2024-01-16 and you can use tools to get new information.\n",
      "Answer the question as best as you can using the following tools: \n",
      "\n",
      "DDG Search: Get information for a search query. Input should be either a question like 'Who was Tolstoy?', or a single word like 'Tolstoy'. Result will be the answers to the question. There can be multiple results. \n",
      "Linux Shell: A Linux Shell. Use this to execute Linux commands. Input should be valid Linux commands. Chain several commands together with semicolon. Missing packages can be installed with `apk add ...` \n",
      "Python Interpreter: A Python interpreter. Use this to execute python code. Input should be valid python code. If you want to see the output of a value, you should print it out with `print(...)`\n",
      "Wikipedia: Get information from an encyclopedia to answer a search query. Input should be a search query such as 'Who was Marie Curie?'. Result will be a detailed answer to the question. There can be multiple results. \n",
      "\n",
      "\n",
      "Use the following format:\n",
      "\n",
      "Question: the input question you must answer\n",
      "Thought: comment on what you want to do next\n",
      "Action: the action to take, exactly one element of [DuckDuckGo Search, Linux Shell, Python Interpreter, Wikipedia]\n",
      "Action Input: the input to the action\n",
      "Observation: the result of the action\n",
      "... (this Thought/Action/Action Input/Observation repeats N times, \n",
      "use it until you are sure of the answer)\n",
      "Thought: I now know the final answer\n",
      "Final Answer: your final answer to the original input question\n",
      "\n",
      "Begin!\n",
      "\n",
      "Question: Use Python to calculate: what is 7*7+4?\n",
      "Thought: \n",
      "            \n",
      " Action: Python Interpreter\n",
      "Action Input: `print(7*7+4)`\n",
      "\n",
      "Observation: 53\n",
      "\n",
      " Thought:\n",
      " I now know the final answer.\n",
      "Final Answer: 53\n"
     ]
    }
   ],
   "source": [
    "print(agent.answer(\"Use Python to calculate: what is 7*7+4?\"))"
   ]
  },
  {
   "cell_type": "code",
   "execution_count": null,
   "metadata": {},
   "outputs": [
    {
     "name": "stdout",
     "output_type": "stream",
     "text": [
      "\n",
      "Today is 2024-01-15 and you can use tools to get new information. \n",
      "Answer the question as best as you can using the following tools: \n",
      "\n",
      "DDG Search: Get information for a search query. Input should be either a question like 'Who was Tolstoy?', or a single word like 'Tolstoy'. Result will be the answers to the question. There can be multiple results.\n",
      "Linux Shell: A Linux Shell. Use this to execute Linux commands. Input should be valid Linux commands. Chain several commands together with semicolon. Missing packages can be installed with `apk add ...`\n",
      "Python Interpreter: A Python interpreter. Use this to execute python code.Input should be valid python code.If you want to see the output of a value, you should print it out with `print(...)`\n",
      "Wikipedia: Get information from Wikipedia, the free encyclopedia. Input should be a search query such as 'Who was Marie Curie?'.Result will be the answers to the question. There can be multiple results.\n",
      "\n",
      "Use the following format:\n",
      "\n",
      "Question: the input question you must answer\n",
      "Thought: comment on what you want to do next\n",
      "Action: the action to take, exactly one element of [DuckDuckGo Search, Linux Shell, Python Interpreter, Wikipedia]\n",
      "Action Input: the input to the action\n",
      "Observation: the result of the action\n",
      "... (this Thought/Action/Action Input/Observation repeats N times, \n",
      "use it until you are sure of the answer)\n",
      "Thought: I now know the final answer\n",
      "Final Answer: your final answer to the original input question\n",
      "\n",
      "Begin!\n",
      "\n",
      "Question: Use Python to calculate the first 4 fibonacci numbers.\n",
      "Thought: \n",
      "            \n",
      " Action: Python Interpreter\n",
      "Action Input: `print(fibonacci(10))`\n",
      "\n",
      "Observation: Execution Failed! Traceback (most recent call last):\n",
      "  File \"<string>\", line 1, in <module>\n",
      "  File \"<string>\", line 1, in <module>\n",
      "NameError: name 'fibonacci' is not defined\n",
      "\n",
      " Thought:\n",
      " Action: DuckDuckGo Search\n",
      "Action Input: \"Fibonacci function\"\n",
      "\n",
      "Observation: {'title': 'Fibonacci sequence - Wikipedia', 'answer': 'A tiling with squares whose side lengths are successive Fibonacci numbers: 1, 1, 2, 3, 5, 8, 13 and 21. In mathematics, the Fibonacci sequence is a sequence in which each number is the sum of the two preceding ones. Numbers that are part of the Fibonacci sequence are known as Fibonacci numbers, commonly denoted F n .The sequence commonly starts from 0 and 1, although some authors start the ...'}\n",
      "{'title': 'Fibonacci Series - GeeksforGeeks', 'answer': 'Complexity Analysis. Time Complexity: O(n), Because for n number for terms, the loop inside the printFib() function will be executed n times.; Auxiliary Space: O(1), Because we only used a few variables which don't depends on the number of terms to be printed; Relation Between Pascal triangle and Fibonacci numbers:. Pascal's triangle is the arrangement of the data in triangular form which ...'}\n",
      "{'title': 'Fibonacci Sequence: Definition, How it Works, and How to Use It', 'answer': 'Fibonacci numbers/lines were discovered by Leonardo Fibonacci, who was an Italian mathematician born in the 12th century. These are a sequence of numbers where each successive number is the sum of ...'}\n",
      "{'title': 'Fibonacci Sequence: Formula, Properties and Examples - GeeksforGeeks', 'answer': 'The important properties of the Fibonacci Sequence are , We can easily calculate the Fibonacci Numbers using the Binet Formula, Fn = (Φn - (1-Φ)n)/√5. Where Φ is called the Golden Ratio and its value is, Φ ≈ 1.618034. Using this formula we can easily calculate the nth term of the Fibonacci sequence as, for.'}\n",
      "{'title': 'Fibonacci Function -- from Wolfram MathWorld', 'answer': 'Fibonacci Function -- from Wolfram MathWorld. Calculus and Analysis. Special Functions. Hypergeometric Functions.'}\n",
      "{'title': 'What is the Fibonacci sequence? | Live Science', 'answer': 'Are there real-life examples? The Fibonacci sequence is a series of numbers in which each number is the sum of the two that precede it. Starting at 0 and 1, the first 10 numbers of the sequence ...'}\n",
      "{'title': 'Fibonacci Calculator', 'answer': 'This Fibonacci calculator will generate a list of Fibonacci numbers from start and end values of n. You can also calculate a single number in the Fibonacci Sequence, Fn, for any value of n up to n = -200 to +200 ... where the brackets in [x] represent the nearest integer function. Simply put, this means to round up or down to the closest integer.'}\n",
      "{'title': 'A Formula for the n-th Fibonacci number - University of Surrey', 'answer': 'For a different complex function based on Binet's formula, see the following two articles where they both introduce the factor e i n which is 1 when n is an integer: Argand Diagrams of Extended Fibonacci and Lucas Numbers, F J Wunderlich, D E Shaw, M J Hones Fibonacci Quarterly, vol 12 (1974), pages 233 - 234;'}\n",
      "{'title': 'What Is the Fibonacci Sequence? (Definition, Formula) | Built In', 'answer': 'The Fibonacci sequence is a series of numbers made famous by Leonardo Fibonacci in the 12th century. It has been described in texts for over two millennia, with the earliest description found in Indian texts in 200 BC, and further development throughout the first millennium.It appears commonly in mathematics and in nature, and for that reason has become a popular pedagogical tool.'}\n",
      "{'title': 'Fibonacci | Biography, Sequence, & Facts | Britannica', 'answer': 'Fibonacci (born c. 1170, Pisa?—died after 1240) medieval Italian mathematician who wrote Liber abaci (1202; 'Book of the Abacus'), the first European work on Indian and Arabian mathematics, which introduced Hindu-Arabic numerals to Europe. His name is mainly known because of the Fibonacci sequence.. Life. Little is known about Fibonacci\\'s life beyond the few facts given in his ...'}\n",
      " Thought:\n"
     ]
    }
   ],
   "source": [
    "print(agent.answer(\"Use Python to calculate the first 4 fibonacci numbers.\"))"
   ]
  },
  {
   "cell_type": "code",
   "execution_count": null,
   "metadata": {},
   "outputs": [],
   "source": [
    "print(agent.answer(\"Use Linux to tell me your ip address\"))"
   ]
  }
 ],
 "metadata": {
  "kernelspec": {
   "display_name": "llm-agent",
   "language": "python",
   "name": "python3"
  },
  "language_info": {
   "codemirror_mode": {
    "name": "ipython",
    "version": 3
   },
   "file_extension": ".py",
   "mimetype": "text/x-python",
   "name": "python",
   "nbconvert_exporter": "python",
   "pygments_lexer": "ipython3",
   "version": "3.9.18"
  }
 },
 "nbformat": 4,
 "nbformat_minor": 2
}
