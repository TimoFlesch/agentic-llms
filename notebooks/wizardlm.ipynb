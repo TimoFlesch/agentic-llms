{
 "cells": [
  {
   "cell_type": "code",
   "execution_count": 1,
   "metadata": {},
   "outputs": [],
   "source": [
    "%load_ext autoreload\n",
    "%autoreload 2"
   ]
  },
  {
   "cell_type": "code",
   "execution_count": 3,
   "metadata": {},
   "outputs": [],
   "source": [
    "from agentic_llm.agent import LLMAgent, get_default_cfg\n",
    "from agentic_llm.utils.config import load_config, save_config"
   ]
  },
  {
   "cell_type": "markdown",
   "metadata": {},
   "source": [
    "A few experiments with WizardLM-13b..."
   ]
  },
  {
   "cell_type": "code",
   "execution_count": 4,
   "metadata": {},
   "outputs": [],
   "source": []
  },
  {
   "cell_type": "code",
   "execution_count": 5,
   "metadata": {},
   "outputs": [
    {
     "data": {
      "text/plain": [
       "{'agent_config': {'max_iter': 5,\n",
       "  'verbose': False,\n",
       "  'system_prompt': '\\nToday is {today} and you can use tools to get new information.\\nAnswer the question as best as you can using the following tools: \\n\\n{tool_description}\\n\\n\\nUse the following format:\\n\\nQuestion: the input question you must answer\\nThought: comment on what you want to do next\\nAction: the action to take, exactly one element of [{tool_names}]\\nAction Input: the input to the action\\nObservation: the result of the action\\n... (this Thought/Action/Action Input/Observation repeats N times, \\nuse it until you are sure of the answer)\\nThought: I now know the final answer\\nFinal Answer: your final answer to the original input question\\n\\nBegin!\\n\\nQuestion: {question}\\nThought: {previous_responses}\\n            '},\n",
       " 'llm_config': {'model_type': 'GPT4ALL',\n",
       "  'model_name': 'wizardlm-13b-v1.2.Q4_0.gguf',\n",
       "  'model_path': '/home/timo/code/agentic-llm/models/',\n",
       "  'temperature': 0,\n",
       "  'top_p': 0.4,\n",
       "  'top_k': 40,\n",
       "  'max_tokens': 200,\n",
       "  'allow_download': False,\n",
       "  'device': 'cpu',\n",
       "  'context_length': 4096,\n",
       "  'verbose': False,\n",
       "  'stop': 'Observation',\n",
       "  'always_prepend_system_prompt': True,\n",
       "  'prompt_template': None},\n",
       " 'tools_config': {'DuckDuckGo Search': {'max_results': 3,\n",
       "   'instant_answers': False,\n",
       "   'safe_search': True,\n",
       "   'time_limit': True,\n",
       "   'add_url': False},\n",
       "  'Linux Shell': {'container_name': 'linux_repl',\n",
       "   'image': 'alpine:3.14',\n",
       "   'image_name': 'agentic_llm_linux',\n",
       "   'persistent_container': True},\n",
       "  'Python Interpreter': {'container_name': 'python_repl',\n",
       "   'image': 'python:3.9-slim-bookworm',\n",
       "   'image_name': 'agentic_llm_python',\n",
       "   'persistent_container': True},\n",
       "  'Wikipedia': {'max_results': 1, 'language': 'en'}}}"
      ]
     },
     "execution_count": 5,
     "metadata": {},
     "output_type": "execute_result"
    }
   ],
   "source": [
    "cfg = load_config(\"/home/timo/code/agentic-llm/configs/wizardlm_config.json\")\n",
    "cfg"
   ]
  },
  {
   "cell_type": "code",
   "execution_count": 6,
   "metadata": {},
   "outputs": [
    {
     "name": "stdout",
     "output_type": "stream",
     "text": [
      "initialising wizardlm-13b-v1.2.Q4_0...\n",
      "...done!\n",
      "running docker container linux_repl...\n",
      "...done!\n",
      "running docker container python_repl...\n",
      "...done!\n"
     ]
    }
   ],
   "source": [
    "agent = LLMAgent(cfg)"
   ]
  },
  {
   "cell_type": "code",
   "execution_count": 7,
   "metadata": {},
   "outputs": [
    {
     "name": "stdout",
     "output_type": "stream",
     "text": [
      " I need to use a Python interpreter to execute this code.\n",
      "Action: Python Interpreter\n",
      "Action Input: `print(7*7 + 4 - 2)`\n",
      "Observation: 51\n",
      "\n",
      "Thought:\n",
      "stopping container python_repl...\n",
      "...done!\n",
      "stopping container linux_repl...\n",
      "...done!\n",
      " The result is 51, so the answer to the original question is also 51.\n"
     ]
    }
   ],
   "source": [
    "print(agent.answer(\"Use Python to calculate: what is 7*7+4-2?\"))"
   ]
  },
  {
   "cell_type": "code",
   "execution_count": null,
   "metadata": {},
   "outputs": [],
   "source": [
    "print(agent.answer(\"Write a Python program to calculate fibonacci numbers. Use it to compute the first 4 fibonacci numbers.\"))"
   ]
  },
  {
   "cell_type": "code",
   "execution_count": 7,
   "metadata": {},
   "outputs": [
    {
     "name": "stdout",
     "output_type": "stream",
     "text": [
      " I need to use the 'ifconfig' command in a shell to get my IP address.\n",
      "Action: Linux Shell\n",
      "Action Input: ifconfig\n",
      "Observation: eth0      Link encap:Ethernet  HWaddr 02:42:AC:11:00:02  \n",
      "          inet addr:172.17.0.2  Bcast:172.17.255.255  Mask:255.255.0.0\n",
      "          UP BROADCAST RUNNING MULTICAST  MTU:1500  Metric:1\n",
      "          RX packets:13 errors:0 dropped:0 overruns:0 frame:0\n",
      "          TX packets:0 errors:0 dropped:0 overruns:0 carrier:0\n",
      "          collisions:0 txqueuelen:0 \n",
      "          RX bytes:1086 (1.0 KiB)  TX bytes:0 (0.0 B)\n",
      "\n",
      "lo        Link encap:Local Loopback  \n",
      "          inet addr:127.0.0.1  Mask:255.0.0.0\n",
      "          UP LOOPBACK RUNNING  MTU:65536  Metric:1\n",
      "          RX packets:0 errors:0 dropped:0 overruns:0 frame:0\n",
      "          TX packets:0 errors:0 dropped:0 overruns:0 carrier:0\n",
      "          collisions:0 txqueuelen:1000 \n",
      "          RX bytes:0 (0.0 B)  TX bytes:0 (0.0 B)\n",
      "\n",
      "\n",
      "Thought:\n",
      " I got the IP address from the output of 'ifconfig'. Now, I need to parse it out of the text.\n",
      "Action: Python Interpreter\n",
      "Action Input: print(re.findall('inet addr:\\d+\\.\\d+\\.\\d+\\.\\d+', \"eth0      Link encap:Ethernet  HWaddr \\w{}\\n          inet addr:172.17.0.2  Bcast:172.17.255.255  Mask:255.255.0.0\"))\n",
      "\n",
      "Observation: Execution Failed! Traceback (most recent call last):\n",
      "  File \"<string>\", line 1, in <module>\n",
      "  File \"<string>\", line 1, in <module>\n",
      "NameError: name 're' is not defined\n",
      "\n",
      "Thought:\n",
      " I forgot to import the re module. Let me do that now.\n",
      "Action: Python Interpreter\n",
      "Action Input: import re; print(re.findall('inet addr:\\d+\\.\\d+\\.\\d+\\.\\d+', \"eth0      Link encap:Ethernet  HWaddr \\w{}\\n          inet addr:172.17.0.2  Bcast:172.17.255.255  Mask:255.255.0.0\"))\n",
      "\n",
      "Observation: ['inet addr:172.17.0.2']\n",
      "\n",
      "Thought:\n",
      " I got the IP address from the output of 'ifconfig'. Now, I need to print it out.\n",
      "Action: Python Interpreter\n",
      "Action Input: print(\"My IP address is\", \"172.17.0.2\")\n",
      "Observation: My IP address is 172.17.0.2\n",
      "\n",
      "Thought:\n",
      "stopping container python_repl...\n",
      "...done!\n",
      "stopping container linux_repl...\n",
      "...done!\n",
      " I got the final answer to my question.\n",
      "Final Answer: The IP address of this system is 172.17.0.2\n"
     ]
    }
   ],
   "source": [
    "print(agent.answer(\"Use Linux to tell me your ip address\"))"
   ]
  },
  {
   "cell_type": "code",
   "execution_count": 7,
   "metadata": {},
   "outputs": [
    {
     "name": "stdout",
     "output_type": "stream",
     "text": [
      " I need more information about who Marie Curie is.\n",
      "Action: DuckDuckGo Search\n",
      "Action Input: 'Who was Marie Curie?'\n",
      "Observation: title: Marie Curie - Wikipedia\n",
      "answer: She is the subject of numerous biographical works. Władysław Skłodowski and daughters (from left) Maria, Maria Skłodowska was born in Congress Poland Russian Empire, on 7 November 1867, the fifth and youngest child of well-known teachers Bronisława, Boguska, and Władysław Skłodowski. [14]\n",
      "title: 'Unthinkable': Marie Curie's Paris lab saved from the bulldozers … for ...\n",
      "answer: Marie Curie is the most famous woman scientist in the world and is a reference and inspiration. The Curie Institute does not need to destroy these historic buildings. It has space elsewhere.\"...\n",
      "title: Who Is Marie Curie? (8 Facts) - TheCollector\n",
      "answer: Marie Curie was a world-leading scientist whose significant breakthroughs continue to influence the nature of medical research today. Feb 27, 2023 • By Rosie Lesso, MA Contemporary Art Theory, BA Fine Art The double Nobel Prize winning physicist and chemist Marie Curie made a significant contribution to the fields of scientific research.\n",
      "Thought:\n",
      "stopping container python_repl...\n",
      "...done!\n",
      "stopping container linux_repl...\n",
      "...done!\n",
      " I have enough information now.\n",
      "Final Answer: Marie Curie was a world-leading scientist whose significant breakthroughs continue to influence the nature of medical research today. She is the subject of numerous biographical works and is considered one of the most famous women in science, having won two Nobel Prizes for her work on radioactivity.\n"
     ]
    }
   ],
   "source": [
    "print(agent.answer(\"Who was Marie Curie?\"))"
   ]
  },
  {
   "cell_type": "code",
   "execution_count": null,
   "metadata": {},
   "outputs": [],
   "source": []
  }
 ],
 "metadata": {
  "kernelspec": {
   "display_name": "llm-agent",
   "language": "python",
   "name": "python3"
  },
  "language_info": {
   "codemirror_mode": {
    "name": "ipython",
    "version": 3
   },
   "file_extension": ".py",
   "mimetype": "text/x-python",
   "name": "python",
   "nbconvert_exporter": "python",
   "pygments_lexer": "ipython3",
   "version": "3.9.18"
  }
 },
 "nbformat": 4,
 "nbformat_minor": 2
}
